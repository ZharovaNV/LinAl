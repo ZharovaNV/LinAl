{
 "cells": [
  {
   "cell_type": "markdown",
   "metadata": {},
   "source": [
    "__1.__ Найти собственные векторы и собственные значения для линейного оператора, заданного матрицей\n",
    "\n",
    "$$A=\\begin{pmatrix}\n",
    "-1 & -6\\\\ \n",
    "2 & 6\n",
    "\\end{pmatrix}.$$"
   ]
  },
  {
   "cell_type": "markdown",
   "metadata": {},
   "source": [
    "__Решение__\n",
    "\n",
    "$\\begin{vmatrix}\n",
    "-1-\\lambda & -6\\\\ \n",
    "2 & 6-\\lambda\n",
    "\\end{vmatrix} = 0,$\n",
    "\n",
    "$(-1-\\lambda)(6-\\lambda)-2\\cdot (-6)=0,$\n",
    "\n",
    "$\\lambda^{2}-5 \\lambda + 6=0,$\n",
    "\n",
    "$\\lambda=2,3$ -  собственные значения."
   ]
  },
  {
   "cell_type": "markdown",
   "metadata": {},
   "source": [
    "$\\begin{pmatrix}\n",
    "-1 & -6\\\\ \n",
    "2 & 6\n",
    "\\end{pmatrix} \\begin{pmatrix}\n",
    "x_1\\\\ \n",
    "x_2\n",
    "\\end{pmatrix} = 2 \\begin{pmatrix}\n",
    "x_1\\\\ \n",
    "x_2\n",
    "\\end{pmatrix}$\n",
    "\n",
    "$\\begin{cases}\n",
    "-x_1 - 6x_2 = 2x_1 \\\\ \n",
    "2x_1+6x_2=2x_2\n",
    "\\end{cases}\n",
    "\\Leftrightarrow\n",
    "\\begin{cases}\n",
    "x_1+2x_2 = 0\\\\ \n",
    "0=0\n",
    "\\end{cases}\n",
    "\\Rightarrow\n",
    "\\begin{pmatrix}\n",
    "2\\\\ \n",
    "-1\n",
    "\\end{pmatrix}$ - собственный вектор $A$ с собственным значением $\\lambda = 2$."
   ]
  },
  {
   "cell_type": "markdown",
   "metadata": {},
   "source": [
    "$\\begin{pmatrix}\n",
    "-1 & -6\\\\ \n",
    "2 & 6\n",
    "\\end{pmatrix} \\begin{pmatrix}\n",
    "x_1\\\\ \n",
    "x_2\n",
    "\\end{pmatrix} = 3 \\begin{pmatrix}\n",
    "x_1\\\\ \n",
    "x_2\n",
    "\\end{pmatrix}$\n",
    "\n",
    "$\\begin{cases}\n",
    "-x_1 - 6x_2 = 3x_1 \\\\ \n",
    "2x_1+6x_2=3x_2\n",
    "\\end{cases}\n",
    "\\Leftrightarrow\n",
    "\\begin{cases}\n",
    "2x_1+3x_2 = 0\\\\ \n",
    "0=0\n",
    "\\end{cases}\n",
    "\\Rightarrow\n",
    "\\begin{pmatrix}\n",
    "3\\\\ \n",
    "-2\n",
    "\\end{pmatrix}$ - собственный вектор $A$ с собственным значением $\\lambda = 3$."
   ]
  },
  {
   "cell_type": "code",
   "execution_count": 2,
   "metadata": {},
   "outputs": [],
   "source": [
    "import numpy as np\n",
    "np.set_printoptions(precision=2, suppress=True)"
   ]
  },
  {
   "cell_type": "code",
   "execution_count": 6,
   "metadata": {},
   "outputs": [
    {
     "name": "stdout",
     "output_type": "stream",
     "text": [
      "Матрица A:\n",
      "[[-1 -6]\n",
      " [ 2  6]]\n",
      "Собственные значения:\n",
      "[2. 3.]\n",
      "Собственные векторы:\n",
      "[ 2. -1.]\n",
      "[ 3. -2.]\n"
     ]
    }
   ],
   "source": [
    "a = np.array([[-1, -6], [2, 6]])\n",
    "w, v = np.linalg.eig(a)\n",
    "\n",
    "print(f'Матрица A:\\n{a}')\n",
    "print(f'Собственные значения:\\n{w}')\n",
    "print(f'Собственные векторы:\\n{v[:, 0]/(-v[1, 0])}\\n{v[:, 1]*2/(-v[1, 1])}')"
   ]
  },
  {
   "cell_type": "markdown",
   "metadata": {},
   "source": [
    "__2.__ Дан оператор поворота на 180 градусов, задаваемый матрицей \n",
    "\n",
    "$$A=\\begin{pmatrix}\n",
    "-1 & 0\\\\ \n",
    "0 & -1\n",
    "\\end{pmatrix}.$$\n",
    "\n",
    "Показать, что __любой__ вектор является для него собственным."
   ]
  },
  {
   "cell_type": "markdown",
   "metadata": {},
   "source": [
    "__Решение__\n",
    "\n",
    "$\\begin{pmatrix}\n",
    "-1 & 0\\\\ \n",
    "0 & -1\n",
    "\\end{pmatrix}\n",
    "\\begin{pmatrix}\n",
    "x_1\\\\ \n",
    "x_2\n",
    "\\end{pmatrix}=\n",
    "\\begin{pmatrix}\n",
    "-x_1\\\\ \n",
    "-x_2\n",
    "\\end{pmatrix}=(-1) \\cdot\n",
    "\\begin{pmatrix}\n",
    "x_1\\\\ \n",
    "x_2\n",
    "\\end{pmatrix}$"
   ]
  },
  {
   "cell_type": "markdown",
   "metadata": {},
   "source": [
    "По определению это означает, что любой вектор является собственным и его собственное значение равно -1."
   ]
  },
  {
   "cell_type": "markdown",
   "metadata": {},
   "source": [
    "__3.__ Пусть линейный оператор задан матрицей\n",
    "\n",
    "$$A=\\begin{pmatrix}\n",
    "1 & 1\\\\ \n",
    "-1 & 3\n",
    "\\end{pmatrix}.$$\n",
    "\n",
    "Установить, является ли вектор $x=(1,1)$ собственным вектором этого линейного оператора."
   ]
  },
  {
   "cell_type": "markdown",
   "metadata": {},
   "source": [
    "__Решение__\n",
    "\n",
    "$\\begin{pmatrix}\n",
    "1 & 1\\\\ \n",
    "-1 & 3\n",
    "\\end{pmatrix}\n",
    "\\begin{pmatrix}\n",
    "1\\\\ \n",
    "1\n",
    "\\end{pmatrix}=\n",
    "\\begin{pmatrix}\n",
    "2\\\\ \n",
    "2\n",
    "\\end{pmatrix}= 2 \\cdot\n",
    "\\begin{pmatrix}\n",
    "1\\\\ \n",
    "1\n",
    "\\end{pmatrix}$"
   ]
  },
  {
   "cell_type": "markdown",
   "metadata": {},
   "source": [
    "По определению это означает, что вектор $x=(1,1)$ является собственным и его собственное значение равно 2."
   ]
  },
  {
   "cell_type": "markdown",
   "metadata": {},
   "source": [
    "__4.__ Пусть линейный оператор задан матрицей\n",
    "\n",
    "$$A=\\begin{pmatrix}\n",
    "0 & 3 & 0\\\\ \n",
    "3 & 0 & 0\\\\\n",
    "0 & 0 & 3\n",
    "\\end{pmatrix}.$$\n",
    "\n",
    "Установить, является ли вектор $x=(3, -3, -4)$ собственным вектором этого линейного оператора."
   ]
  },
  {
   "cell_type": "markdown",
   "metadata": {},
   "source": [
    "__Решение__\n",
    "\n",
    "$\\begin{pmatrix}\n",
    "0 & 3 & 0\\\\ \n",
    "3 & 0 & 0\\\\\n",
    "0 & 0 & 3\n",
    "\\end{pmatrix}\n",
    "\\begin{pmatrix}\n",
    "3\\\\ \n",
    "-3\\\\\n",
    "-4\n",
    "\\end{pmatrix}=\n",
    "\\begin{pmatrix}\n",
    "-9\\\\ \n",
    "9\\\\\n",
    "-12\n",
    "\\end{pmatrix}=(-3) \\cdot\n",
    "\\begin{pmatrix}\n",
    "3\\\\ \n",
    "-3\\\\\n",
    "4\n",
    "\\end{pmatrix} \\neq \\lambda\n",
    "\\begin{pmatrix}\n",
    "3\\\\ \n",
    "-3\\\\\n",
    "-4\n",
    "\\end{pmatrix}, \\forall \\lambda$"
   ]
  },
  {
   "cell_type": "markdown",
   "metadata": {},
   "source": [
    "Следовательно вектор $x=(3, -3, -4)$ не является собственным вектором линейного оператора $A$.\n",
    "\n",
    "Найдем собственные векторы и собственные значения оператора $A$.\n",
    "\n",
    "$\\begin{vmatrix}\n",
    "0-\\lambda & 3 & 0\\\\ \n",
    "3 & 0-\\lambda & 0\\\\\n",
    "0 & 0 & 3-\\lambda\n",
    "\\end{vmatrix}=\\lambda^2(3-\\lambda)-9(3-\\lambda)=0 \\Rightarrow \\lambda = \\pm 3$ - собственные значения (корень 3 кратности 2)."
   ]
  },
  {
   "cell_type": "markdown",
   "metadata": {},
   "source": [
    "$\\begin{pmatrix}\n",
    "0 & 3 & 0\\\\ \n",
    "3 & 0 & 0\\\\\n",
    "0 & 0 & 3\n",
    "\\end{pmatrix}\n",
    "\\begin{pmatrix}\n",
    "x_1\\\\ \n",
    "x_2\\\\\n",
    "x_3\n",
    "\\end{pmatrix}=\n",
    "\\begin{pmatrix}\n",
    "3x_2\\\\ \n",
    "3x_1\\\\\n",
    "3x_3\n",
    "\\end{pmatrix}=3 \\cdot\n",
    "\\begin{pmatrix}\n",
    "x_1\\\\ \n",
    "x_2\\\\\n",
    "x_3\n",
    "\\end{pmatrix} \\Rightarrow\n",
    "\\begin{cases}\n",
    "x_2=x_1\\\\\n",
    "x_1=x_2\\\\\n",
    "x_3=x_3\n",
    "\\end{cases} \\Rightarrow $ вектор $(1,1,1)$ - собственный с собственным значением 3.\n",
    "\n",
    "$\\begin{pmatrix}\n",
    "0 & 3 & 0\\\\ \n",
    "3 & 0 & 0\\\\\n",
    "0 & 0 & 3\n",
    "\\end{pmatrix}\n",
    "\\begin{pmatrix}\n",
    "x_1\\\\ \n",
    "x_2\\\\\n",
    "x_3\n",
    "\\end{pmatrix}=\n",
    "\\begin{pmatrix}\n",
    "3x_2\\\\ \n",
    "3x_1\\\\\n",
    "3x_3\n",
    "\\end{pmatrix}=(-3) \\cdot\n",
    "\\begin{pmatrix}\n",
    "x_1\\\\ \n",
    "x_2\\\\\n",
    "x_3\n",
    "\\end{pmatrix} \\Rightarrow\n",
    "\\begin{cases}\n",
    "x_2=-x_1\\\\\n",
    "x_1=-x_2\\\\\n",
    "x_3=-x_3\n",
    "\\end{cases} \\Rightarrow $ вектор $(1,-1,0)$ - собственный с собственным значением -3."
   ]
  },
  {
   "cell_type": "code",
   "execution_count": 9,
   "metadata": {},
   "outputs": [
    {
     "name": "stdout",
     "output_type": "stream",
     "text": [
      "Матрица A:\n",
      "[[0 3 0]\n",
      " [3 0 0]\n",
      " [0 0 3]]\n",
      "Собственные значения:\n",
      "[ 3. -3.  3.]\n",
      "Собственные векторы:\n",
      "[1. 1. 1.]\n",
      "[ 1. -1. -0.]\n"
     ]
    }
   ],
   "source": [
    "a = np.array([[0, 3, 0], [3, 0, 0], [0, 0, 3]])\n",
    "w, v = np.linalg.eig(a)\n",
    "\n",
    "print(f'Матрица A:\\n{a}')\n",
    "print(f'Собственные значения:\\n{w}')\n",
    "print(f'Собственные векторы:\\n{v[:, 0]/v[0, 0]+v[:, 2]}\\n{v[:, 1]/(-v[1, 1])}')\n",
    "### так как первое и третье собственные значения совпадают, \n",
    "### то первый и третий собственные вектора можем сложить и получить собственный вектор с тем же собственным значением"
   ]
  }
 ],
 "metadata": {
  "kernelspec": {
   "display_name": "Python 3",
   "language": "python",
   "name": "python3"
  },
  "language_info": {
   "codemirror_mode": {
    "name": "ipython",
    "version": 3
   },
   "file_extension": ".py",
   "mimetype": "text/x-python",
   "name": "python",
   "nbconvert_exporter": "python",
   "pygments_lexer": "ipython3",
   "version": "3.7.4"
  }
 },
 "nbformat": 4,
 "nbformat_minor": 2
}
