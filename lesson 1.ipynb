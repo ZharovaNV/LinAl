{
 "cells": [
  {
   "cell_type": "markdown",
   "metadata": {},
   "source": [
    "### Часть 1"
   ]
  },
  {
   "cell_type": "markdown",
   "metadata": {},
   "source": [
    "__1.__ Исследовать на линейную зависимость:\n",
    "$$f_{1}(x)=e^{x}, f_{2}(x)=1, f_{3}(x)=x+1, f_{4}(x)=x-e^{x}.$$"
   ]
  },
  {
   "cell_type": "markdown",
   "metadata": {},
   "source": [
    "__Решение__\n",
    "\n",
    "Линейно зависимы, так как один вектор можно представить в виде линейной комбинации других\n",
    "\n",
    "$$f_4(x) = -e^x - 1 + (x + 1) = -f_1(x) - f_2(x) + f_3(x)$$"
   ]
  },
  {
   "cell_type": "markdown",
   "metadata": {},
   "source": [
    "__2.__ Исследовать на линейную зависимость:\n",
    "$$f_{1}(x)=2, f_{2}(x)=x, f_{3}(x)=x^{2}, f_{4}(x)=(x+1)^{2}.$$"
   ]
  },
  {
   "cell_type": "markdown",
   "metadata": {},
   "source": [
    "__Решение__\n",
    "\n",
    "Линейно зависимы, так как один вектор можно представить в виде линейной комбинации других\n",
    "\n",
    "$$f_4(x) =  x^2 + 2x + 1 = f_3(x) + 2f_2(x) + \\frac 12 f_3(x)$$"
   ]
  },
  {
   "cell_type": "markdown",
   "metadata": {},
   "source": [
    "__3.__ Найти координаты вектора $x = (2, 3, 5)\\in \\mathbb{R}^{3}$ в базисе $b_{1}=(0, 0, 10)$, $b_{2}=(2, 0, 0)$, $b_{3}=(0, 1, 0)$."
   ]
  },
  {
   "cell_type": "markdown",
   "metadata": {},
   "source": [
    "__Решение__\n",
    "\n",
    "$(\\frac 12, 1, 3)$, так как $\\frac 12 \\cdot (0,0,10) + (2,0,0) + 3 \\cdot (0,1,0) = (2,3,5)$"
   ]
  },
  {
   "cell_type": "markdown",
   "metadata": {},
   "source": [
    "__4.__ Найти координаты вектора $3x^{2}-2x+2\\in\\mathbb{R}^{3}[x]$:\n",
    "\n",
    "   а) в базисе $1$, $x$, $x^{2}$;\n",
    "\n",
    "   б) в базисе $x^{2}$, $x-1$, $1$."
   ]
  },
  {
   "cell_type": "markdown",
   "metadata": {},
   "source": [
    "__Ответ__\n",
    "\n",
    "а) (2,-2,3)\n",
    "\n",
    "б) (3,-2,0)"
   ]
  },
  {
   "cell_type": "markdown",
   "metadata": {},
   "source": [
    "__5.__ Установить, является ли линейным подпространством:\n",
    "\n",
    "а) совокупность всех векторов трехмерного пространства, у которых по крайней мере одна из первых двух координат равна нулю;\n",
    "    \n",
    "б) все векторы, являющиеся линейными комбинациями данных векторов $\\{u_{1}, u_{2}, ..., u_{n}\\}$."
   ]
  },
  {
   "cell_type": "markdown",
   "metadata": {},
   "source": [
    "__Решение__\n",
    "\n",
    "а) Нет, так как сумма двух векторов данного пространства не всегда принадлежит этому же пространству.\n",
    "\n",
    "Например, веркторы (1,0,2) и (0,1,5) принадлежат пространству, а их сумма (1,2,7) не принадлежит, так как обе первые коорлинаты отличны от нуля"
   ]
  },
  {
   "cell_type": "markdown",
   "metadata": {},
   "source": [
    "б) Да, так как сумма любых двух верторов и произведение верктора на скаляр также является линейной комбинацией векторов $\\{u_{1}, u_{2}, ..., u_{n}\\}$, то есть принаддежат этому пространству:\n",
    "    \n",
    "$$\\sum \\lambda_i^1 u_i + \\sum \\lambda_i^2 u_i = \\sum (\\lambda_i^1 + \\lambda_i^2) u_i$$\n",
    "\n",
    "$$\\mu \\cdot \\sum \\lambda_i u_i = \\sum(\\mu \\cdot \\lambda_i) u_i$$"
   ]
  },
  {
   "cell_type": "markdown",
   "metadata": {},
   "source": [
    "### Часть 2"
   ]
  },
  {
   "cell_type": "markdown",
   "metadata": {},
   "source": [
    "__1.__ Найти скалярное произведение векторов $x, y \\in \\mathbb{R}$:<br>\n",
    "а) $x=(0,-3, 6),~y=(-4, 7, 9);$<br>\n",
    "б) $x=(7, -4, 0, 1),~y=(-3, 1, 11, 2).$"
   ]
  },
  {
   "cell_type": "markdown",
   "metadata": {},
   "source": [
    "__Решение__\n",
    "\n",
    "а) $(x,y) = 0 \\cdot(-4) + (-3) \\cdot 7 + 6 \\cdot 9 = 33$"
   ]
  },
  {
   "cell_type": "markdown",
   "metadata": {},
   "source": [
    "б) $7 \\cdot (-3) + (-4)\\cdot 1 + 0 \\cdot 11 + 1 \\cdot 2 = -23$"
   ]
  },
  {
   "cell_type": "markdown",
   "metadata": {},
   "source": [
    "__2.__ Найти нормы векторов $(4, 2, 4)$ и $(12, 3, 4)$ и угол между ними."
   ]
  },
  {
   "cell_type": "markdown",
   "metadata": {},
   "source": [
    "__Решение__\n",
    "\n",
    "Евклидова норма:\n",
    "\n",
    "$\\left \\|x\\right \\|= \\sqrt{\\sum|x_{i}|^{2}} = \\sqrt{16 + 4 + 16} = 6$\n",
    "\n",
    "$\\left \\|y\\right \\|= \\sqrt{\\sum|y_{i}|^{2}} = \\sqrt{144 + 9 + 16} = 13$\n",
    "\n",
    "$\\cos \\varphi = \\frac {4 \\cdot 12 + 2 \\cdot 3 + 4 \\cdot 4}{6 \\cdot 13} = 0.8974$"
   ]
  },
  {
   "cell_type": "code",
   "execution_count": 14,
   "metadata": {},
   "outputs": [
    {
     "name": "stdout",
     "output_type": "stream",
     "text": [
      "Косинус угла между a и b: 0.8974\n",
      "Угол между a и b: 26.18 градусов\n"
     ]
    }
   ],
   "source": [
    "import numpy as np\n",
    "from numpy.linalg import norm\n",
    "x = np.array([4, 2, 4])\n",
    "y = np.array([12, 3, 4])\n",
    "cos_phi = np.dot(x, y) / norm(x, ord=2) / norm(y, ord=2)\n",
    "print(f'Косинус угла между a и b: {cos_phi:.4f}')\n",
    "print(f'Угол между a и b: {np.arccos(cos_phi)*180/np.pi:.2f} градусов')"
   ]
  },
  {
   "cell_type": "markdown",
   "metadata": {},
   "source": [
    "Манхэттенская норма:\n",
    "\n",
    "$\\left \\|x\\right \\|= \\sum|x_{i}| = 10$\n",
    "\n",
    "$\\left \\|y\\right \\|= \\sum|y_{i}| = 19$\n",
    "\n",
    "$\\cos \\varphi = \\frac {4 \\cdot 12 + 2 \\cdot 3 + 4 \\cdot 4}{10 \\cdot 19} = 0.3684$"
   ]
  },
  {
   "cell_type": "code",
   "execution_count": 16,
   "metadata": {},
   "outputs": [
    {
     "name": "stdout",
     "output_type": "stream",
     "text": [
      "Косинус угла между a и b: 0.3684\n",
      "Угол между a и b: 68.38 градусов\n"
     ]
    }
   ],
   "source": [
    "cos_phi = np.dot(x, y) / norm(x, ord=1) / norm(y, ord=1)\n",
    "print(f'Косинус угла между a и b: {cos_phi:.4f}')\n",
    "print(f'Угол между a и b: {np.arccos(cos_phi)*180/np.pi:.2f} градусов')"
   ]
  },
  {
   "cell_type": "markdown",
   "metadata": {},
   "source": [
    "__3.__ Будет ли линейное пространство евклидовым, если за скалярное произведение принять:<br>\n",
    "а) произведение длин векторов;<br>\n",
    "б) утроенное обычное скалярное произведение векторов?"
   ]
  },
  {
   "cell_type": "markdown",
   "metadata": {},
   "source": [
    "__Решение__\n",
    "\n",
    "а) Нет, так как не всегда выполнено свойство $(x_{1}+x_{2},y)=(x_{1},y)+(x_{2},y);$\n",
    "\n",
    "$(x_1 + x_2, y) = \\left \\| x_1 + x_2 \\right \\| \\cdot \\left \\| y \\right \\| \\leq (\\left \\| x_1  \\right \\| + \\left \\| x_2 \\right \\|) \\cdot \\left \\| y \\right \\|$"
   ]
  },
  {
   "cell_type": "markdown",
   "metadata": {},
   "source": [
    "б) Да, так как все условия из определения выполнены"
   ]
  },
  {
   "cell_type": "markdown",
   "metadata": {},
   "source": [
    "__4.__ Какие из нижеперечисленных векторов образуют ортонормированный базис в линейном пространстве $\\mathbb{R}^{3}$:<br>\n",
    "а) $(1,0,0),(0,0,1);$ <br>\n",
    "б) $(1/\\sqrt{2},-1/\\sqrt{2},0),(1/\\sqrt{2},1/\\sqrt{2},0), (0,0,1);$<br>\n",
    "в) $(1/2, -1/2, 0), (0, 1/2, 1/2), (0,0,1);$<br>\n",
    "г) $(1,0,0),(0,1,0),(0,0,1)?$ "
   ]
  },
  {
   "cell_type": "markdown",
   "metadata": {},
   "source": [
    "__Решение__\n",
    "\n",
    "а) Нет, так как данные вектора не являются базисом.\n",
    "\n",
    "Пример: вектор (0,1,0) нельзя представить в виде линейной комбинации заданных векоров"
   ]
  },
  {
   "cell_type": "markdown",
   "metadata": {},
   "source": [
    "б) нет, так как верктора не являются ортогональными:\n",
    "    \n",
    "$((1/\\sqrt{2},1/\\sqrt{2},0),(0,0,1)) = 1 \\neq 0$"
   ]
  },
  {
   "cell_type": "markdown",
   "metadata": {},
   "source": [
    "в) Нет, так как вектора не являются ортогональными и их длина не равна 1"
   ]
  },
  {
   "cell_type": "markdown",
   "metadata": {},
   "source": [
    "г) Да, так как вертора явлются линейнонезависимыми, ортогональными и их длина равна 1"
   ]
  }
 ],
 "metadata": {
  "kernelspec": {
   "display_name": "Python 3",
   "language": "python",
   "name": "python3"
  },
  "language_info": {
   "codemirror_mode": {
    "name": "ipython",
    "version": 3
   },
   "file_extension": ".py",
   "mimetype": "text/x-python",
   "name": "python",
   "nbconvert_exporter": "python",
   "pygments_lexer": "ipython3",
   "version": "3.7.4"
  }
 },
 "nbformat": 4,
 "nbformat_minor": 2
}
